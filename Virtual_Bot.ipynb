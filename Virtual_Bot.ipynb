{
  "nbformat": 4,
  "nbformat_minor": 0,
  "metadata": {
    "colab": {
      "name": "Virtual_Bot.ipynb",
      "provenance": [],
      "authorship_tag": "ABX9TyORkYRN/HHqO5HRmFXtDXX9",
      "include_colab_link": true
    },
    "kernelspec": {
      "name": "python3",
      "display_name": "Python 3"
    },
    "language_info": {
      "name": "python"
    }
  },
  "cells": [
    {
      "cell_type": "markdown",
      "metadata": {
        "id": "view-in-github",
        "colab_type": "text"
      },
      "source": [
        "<a href=\"https://colab.research.google.com/github/Tashmoy966/Virtial_Agent/blob/main/Virtual_Bot.ipynb\" target=\"_parent\"><img src=\"https://colab.research.google.com/assets/colab-badge.svg\" alt=\"Open In Colab\"/></a>"
      ]
    },
    {
      "cell_type": "code",
      "metadata": {
        "id": "AIyrsSc4DS-I"
      },
      "source": [
        "import numpy as np\n",
        "import pandas as pd"
      ],
      "execution_count": 30,
      "outputs": []
    },
    {
      "cell_type": "code",
      "metadata": {
        "id": "hlAmYdzyDa3E"
      },
      "source": [
        "dataset_path='faqs.xlsx'"
      ],
      "execution_count": 33,
      "outputs": []
    },
    {
      "cell_type": "code",
      "metadata": {
        "id": "odtU8-LpDfIQ"
      },
      "source": [
        "df=pd.read_excel(dataset_path)"
      ],
      "execution_count": 34,
      "outputs": []
    },
    {
      "cell_type": "code",
      "metadata": {
        "id": "KqPrIlYKDhwO"
      },
      "source": [
        "df"
      ],
      "execution_count": null,
      "outputs": []
    },
    {
      "cell_type": "code",
      "metadata": {
        "id": "HZT1-ZuwMXCc"
      },
      "source": [
        "!pip install lingualytics"
      ],
      "execution_count": null,
      "outputs": []
    },
    {
      "cell_type": "code",
      "metadata": {
        "id": "_3snEEHyLjTx"
      },
      "source": [
        "from lingualytics.preprocessing import remove_lessthan, remove_punctuation, remove_stopwords\n",
        "from lingualytics.stopwords import hi_stopwords,en_stopwords\n",
        "from texthero.preprocessing import remove_digits\n"
      ],
      "execution_count": null,
      "outputs": []
    },
    {
      "cell_type": "code",
      "metadata": {
        "id": "97GTH5vYLvTY"
      },
      "source": [
        "# pd.set_option('display.max_colwidth', None)\n",
        "df['clean_Q'] = df['Q'].pipe(remove_digits) \\\n",
        "                                    .pipe(remove_punctuation) \\\n",
        "#                                    .pipe(remove_lessthan,length=3) \\\n",
        "#                                    .pipe(remove_stopwords,stopwords=en_stopwords.union(hi_stopwords))\n",
        "#print(df)"
      ],
      "execution_count": 40,
      "outputs": []
    },
    {
      "cell_type": "code",
      "metadata": {
        "id": "qY1pkzRvN0C7"
      },
      "source": [
        "df"
      ],
      "execution_count": null,
      "outputs": []
    },
    {
      "cell_type": "code",
      "metadata": {
        "id": "zipIbTpfOUXD"
      },
      "source": [
        "!pip install -U sentence-transformers"
      ],
      "execution_count": null,
      "outputs": []
    },
    {
      "cell_type": "code",
      "metadata": {
        "id": "esWB1mq4Q0DW"
      },
      "source": [
        "from sentence_transformers import SentenceTransformer\n",
        "model = SentenceTransformer('paraphrase-MiniLM-L6-v2')"
      ],
      "execution_count": null,
      "outputs": []
    },
    {
      "cell_type": "code",
      "metadata": {
        "id": "vdtxmqoTRDWv"
      },
      "source": [
        "q_embs=model.encode(df['clean_Q'],convert_to_tensor=True)"
      ],
      "execution_count": 46,
      "outputs": []
    },
    {
      "cell_type": "code",
      "metadata": {
        "id": "Dp4rX1ygR_Ng"
      },
      "source": [
        "q_embs.shape"
      ],
      "execution_count": null,
      "outputs": []
    },
    {
      "cell_type": "code",
      "metadata": {
        "id": "vhk4Ld8XSSzd"
      },
      "source": [
        "user_query=\"Tell me about kandi\""
      ],
      "execution_count": 49,
      "outputs": []
    },
    {
      "cell_type": "code",
      "metadata": {
        "id": "J1KL_FKsSlKV"
      },
      "source": [
        "df_q=pd.DataFrame([user_query],columns=['user_query'])"
      ],
      "execution_count": 50,
      "outputs": []
    },
    {
      "cell_type": "code",
      "metadata": {
        "id": "PfX2mvqoS9D5"
      },
      "source": [
        "df_q"
      ],
      "execution_count": null,
      "outputs": []
    },
    {
      "cell_type": "code",
      "metadata": {
        "id": "_yv3W8QcTczQ"
      },
      "source": [
        "user_query_emb=model.encode(df_q['user_query'],convert_to_tensor=True)"
      ],
      "execution_count": 52,
      "outputs": []
    },
    {
      "cell_type": "code",
      "metadata": {
        "id": "kXCjZBvJTra1"
      },
      "source": [
        "user_query_emb.shape"
      ],
      "execution_count": null,
      "outputs": []
    },
    {
      "cell_type": "code",
      "metadata": {
        "id": "OeRjsrK7U8oL"
      },
      "source": [
        "import torch\n",
        "cos_fn=torch.nn.CosineSimilarity(dim=1, eps=1e-6)"
      ],
      "execution_count": 55,
      "outputs": []
    },
    {
      "cell_type": "code",
      "metadata": {
        "id": "E-bbbUXfVUik"
      },
      "source": [
        "cos_fn(user_query_emb,q_embs)"
      ],
      "execution_count": null,
      "outputs": []
    },
    {
      "cell_type": "code",
      "metadata": {
        "id": "KhUkdnQ9Vpgn"
      },
      "source": [
        "df['A'][np.argmax(cos_fn(user_query_emb,q_embs)).item()]"
      ],
      "execution_count": null,
      "outputs": []
    },
    {
      "cell_type": "code",
      "metadata": {
        "id": "yTV52b5yWiJb"
      },
      "source": [
        "def predict_answer(user_query):\n",
        "  df_q=pd.DataFrame([user_query],columns=['user_query'])\n",
        "  user_query_emb=model.encode(df_q['user_query'],convert_to_tensor=True)\n",
        "  cos_fn=torch.nn.CosineSimilarity(dim=1, eps=1e-6)\n",
        "  return df['A'][np.argmax(cos_fn(user_query_emb,q_embs)).item()]"
      ],
      "execution_count": 61,
      "outputs": []
    },
    {
      "cell_type": "code",
      "metadata": {
        "id": "SzCFDmxMXFaq"
      },
      "source": [
        "predict_answer(user_query)"
      ],
      "execution_count": null,
      "outputs": []
    },
    {
      "cell_type": "code",
      "metadata": {
        "id": "obnz7L-BXNK3"
      },
      "source": [
        "while True:\n",
        "  user_query=input(\"Ask query\")\n",
        "  if user_query==\"exit\":\n",
        "    print(\"Thank U For Visiting\")\n",
        "    break\n",
        "  else:\n",
        "    print(predict_answer(user_query))"
      ],
      "execution_count": null,
      "outputs": []
    }
  ]
}